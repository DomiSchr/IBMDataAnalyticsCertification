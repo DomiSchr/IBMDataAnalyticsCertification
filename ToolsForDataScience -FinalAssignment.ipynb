{
  "metadata": {
    "kernelspec": {
      "name": "python",
      "display_name": "Python (Pyodide)",
      "language": "python"
    },
    "language_info": {
      "codemirror_mode": {
        "name": "python",
        "version": 3
      },
      "file_extension": ".py",
      "mimetype": "text/x-python",
      "name": "python",
      "nbconvert_exporter": "python",
      "pygments_lexer": "ipython3",
      "version": "3.8"
    }
  },
  "nbformat_minor": 4,
  "nbformat": 4,
  "cells": [
    {
      "cell_type": "markdown",
      "source": "<center>\n    <img src=\"https://cf-courses-data.s3.us.cloud-object-storage.appdomain.cloud/IBMDeveloperSkillsNetwork-DS0105EN-SkillsNetwork/labs/Module2/images/SN_web_lightmode.png\" width=\"300\" alt=\"cognitiveclass.ai logo\"  />\n</center>\n",
      "metadata": {}
    },
    {
      "cell_type": "markdown",
      "source": "#### Add your code below following the instructions given in the course\n",
      "metadata": {}
    },
    {
      "cell_type": "markdown",
      "source": "# My Jupyter Notebook on IBM Watson Studio",
      "metadata": {}
    },
    {
      "cell_type": "markdown",
      "source": "**Dominik Schröder** <br>\nCurrently I am a CS Student and I would like to work as a Data Scientist in the banking industry full time.",
      "metadata": {}
    },
    {
      "cell_type": "markdown",
      "source": "*I am interested in data science because of all the insights firms can gain from their data and the opportunities that arise from those insights.*",
      "metadata": {}
    },
    {
      "cell_type": "markdown",
      "source": "### Function add_functions adds varaibles x and y",
      "metadata": {}
    },
    {
      "cell_type": "code",
      "source": "def add_function(x, y):\n  return(x + y)\n\nadd_function(1, 2)",
      "metadata": {
        "trusted": true
      },
      "execution_count": 4,
      "outputs": [
        {
          "execution_count": 4,
          "output_type": "execute_result",
          "data": {
            "text/plain": "3"
          },
          "metadata": {}
        }
      ]
    },
    {
      "cell_type": "markdown",
      "source": "<blockquote>Here are the required styles:</blockquote>\n\n* This is the first element of the bulleted list\n---\n<ol>\n<li>Then there is a horizontal line</li>\n<li>And a numbered list</li>\n</ol>\n\n<strike>This should be enough elements<strike>",
      "metadata": {}
    }
  ]
}